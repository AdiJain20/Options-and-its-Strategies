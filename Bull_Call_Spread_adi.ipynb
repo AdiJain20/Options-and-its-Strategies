{
  "cells": [
    {
      "cell_type": "markdown",
      "metadata": {
        "id": "7xDoWE7dE2cf"
      },
      "source": [
        "# Bull Call Spread on Bank Nifty Data"
      ]
    },
    {
      "cell_type": "markdown",
      "metadata": {
        "id": "8OVX7m3oE2cm"
      },
      "source": [
        "https://zerodha.com/varsity/chapter/bull-call-spread/"
      ]
    },
    {
      "cell_type": "markdown",
      "metadata": {
        "id": "KksWFXRsE2co"
      },
      "source": [
        "In this assignment I have given the code for bull call spread on bank nifty data for 1 month managing the delta of 0.8 <br/>\n",
        "Also rather than buying at the money call option, we have bought bank nifty futures at the start of the month and we will hedge it by selling OTM call option."
      ]
    },
    {
      "cell_type": "markdown",
      "metadata": {
        "id": "0lWRZW5NE2cq"
      },
      "source": [
        "## Importing important libraries"
      ]
    },
    {
      "cell_type": "code",
      "execution_count": 291,
      "metadata": {
        "id": "7Lb_SRTGE2cs",
        "colab": {
          "base_uri": "https://localhost:8080/"
        },
        "outputId": "0c8b2dfe-ca4d-4751-9ae6-9e2b6bf7746e"
      },
      "outputs": [
        {
          "output_type": "stream",
          "name": "stdout",
          "text": [
            "Requirement already satisfied: py_vollib in /usr/local/lib/python3.10/dist-packages (1.0.1)\n",
            "Requirement already satisfied: py-lets-be-rational in /usr/local/lib/python3.10/dist-packages (from py_vollib) (1.0.1)\n",
            "Requirement already satisfied: simplejson in /usr/local/lib/python3.10/dist-packages (from py_vollib) (3.19.2)\n",
            "Requirement already satisfied: numpy in /usr/local/lib/python3.10/dist-packages (from py_vollib) (1.23.5)\n",
            "Requirement already satisfied: pandas in /usr/local/lib/python3.10/dist-packages (from py_vollib) (1.5.3)\n",
            "Requirement already satisfied: scipy in /usr/local/lib/python3.10/dist-packages (from py_vollib) (1.11.4)\n",
            "Requirement already satisfied: python-dateutil>=2.8.1 in /usr/local/lib/python3.10/dist-packages (from pandas->py_vollib) (2.8.2)\n",
            "Requirement already satisfied: pytz>=2020.1 in /usr/local/lib/python3.10/dist-packages (from pandas->py_vollib) (2023.3.post1)\n",
            "Requirement already satisfied: six>=1.5 in /usr/local/lib/python3.10/dist-packages (from python-dateutil>=2.8.1->pandas->py_vollib) (1.16.0)\n"
          ]
        }
      ],
      "source": [
        "!pip install py_vollib"
      ]
    },
    {
      "cell_type": "code",
      "execution_count": 292,
      "metadata": {
        "id": "tSeXWcnpE2cu"
      },
      "outputs": [],
      "source": [
        "import pandas as pd\n",
        "import matplotlib.pyplot as plt\n",
        "import numpy as np\n",
        "\n",
        "from datetime import datetime\n",
        "\n",
        "import warnings\n",
        "warnings.filterwarnings(\"ignore\")\n",
        "\n",
        "# to fetch data\n",
        "import yfinance as yf\n",
        "\n",
        "import scipy.stats as ss\n",
        "\n",
        "import py_vollib.black_scholes.greeks.analytical as derivatives\n",
        "\n",
        "import math"
      ]
    },
    {
      "cell_type": "markdown",
      "metadata": {
        "id": "oU7NYmRME2cw"
      },
      "source": [
        "## Importing data"
      ]
    },
    {
      "cell_type": "code",
      "execution_count": 293,
      "metadata": {
        "id": "AoKgnZsdE2cx",
        "colab": {
          "base_uri": "https://localhost:8080/",
          "height": 397
        },
        "outputId": "3b429efd-7b9c-4405-bb2d-c78ad15dd430"
      },
      "outputs": [
        {
          "output_type": "execute_result",
          "data": {
            "text/plain": [
              "       DATE  EXPIRY DATE  OPTION TYPE  STRIKE PRICE   OPEN PRICE   \\\n",
              "0  28-Dec-23    28-Dec-23           XX             -     48456.35   \n",
              "1  27-Dec-23    28-Dec-23           XX             -     47904.75   \n",
              "2  26-Dec-23    28-Dec-23           XX             -     47596.60   \n",
              "3  22-Dec-23    28-Dec-23           XX             -     48105.00   \n",
              "4  21-Dec-23    28-Dec-23           XX             -     47245.00   \n",
              "\n",
              "   HIGH PRICE   LOW PRICE   CLOSE PRICE   LAST PRICE   SETTLE PRICE   \\\n",
              "0     48679.00    48357.90      48506.60     48515.00       48508.55   \n",
              "1     48443.00    47856.05      48359.95     48365.00       48359.95   \n",
              "2     47971.95    47450.45      47825.45     47887.25       47825.45   \n",
              "3     48280.15    47470.80      47575.60     47532.00       47575.60   \n",
              "4     48207.95    46964.70      48105.00     48107.90       48105.00   \n",
              "\n",
              "     Volume         VALUE   PREMIUM VALUE   OPEN INTEREST   CHANGE IN OI   \n",
              "0  1700415.0  8.249356e+10    8.249356e+10        536100.0      -492015.0  \n",
              "1  2174190.0  1.046535e+11    1.046535e+11       1028115.0      -131190.0  \n",
              "2  2072670.0  9.900198e+10    9.900198e+10       1159305.0      -250920.0  \n",
              "3  3124755.0  1.495615e+11    1.495615e+11       1410225.0      -294075.0  \n",
              "4  3970290.0  1.890067e+11    1.890067e+11       1704300.0       -64890.0  "
            ],
            "text/html": [
              "\n",
              "  <div id=\"df-5dcffad4-937a-47ad-add9-760ef2d7c3e6\" class=\"colab-df-container\">\n",
              "    <div>\n",
              "<style scoped>\n",
              "    .dataframe tbody tr th:only-of-type {\n",
              "        vertical-align: middle;\n",
              "    }\n",
              "\n",
              "    .dataframe tbody tr th {\n",
              "        vertical-align: top;\n",
              "    }\n",
              "\n",
              "    .dataframe thead th {\n",
              "        text-align: right;\n",
              "    }\n",
              "</style>\n",
              "<table border=\"1\" class=\"dataframe\">\n",
              "  <thead>\n",
              "    <tr style=\"text-align: right;\">\n",
              "      <th></th>\n",
              "      <th>DATE</th>\n",
              "      <th>EXPIRY DATE</th>\n",
              "      <th>OPTION TYPE</th>\n",
              "      <th>STRIKE PRICE</th>\n",
              "      <th>OPEN PRICE</th>\n",
              "      <th>HIGH PRICE</th>\n",
              "      <th>LOW PRICE</th>\n",
              "      <th>CLOSE PRICE</th>\n",
              "      <th>LAST PRICE</th>\n",
              "      <th>SETTLE PRICE</th>\n",
              "      <th>Volume</th>\n",
              "      <th>VALUE</th>\n",
              "      <th>PREMIUM VALUE</th>\n",
              "      <th>OPEN INTEREST</th>\n",
              "      <th>CHANGE IN OI</th>\n",
              "    </tr>\n",
              "  </thead>\n",
              "  <tbody>\n",
              "    <tr>\n",
              "      <th>0</th>\n",
              "      <td>28-Dec-23</td>\n",
              "      <td>28-Dec-23</td>\n",
              "      <td>XX</td>\n",
              "      <td>-</td>\n",
              "      <td>48456.35</td>\n",
              "      <td>48679.00</td>\n",
              "      <td>48357.90</td>\n",
              "      <td>48506.60</td>\n",
              "      <td>48515.00</td>\n",
              "      <td>48508.55</td>\n",
              "      <td>1700415.0</td>\n",
              "      <td>8.249356e+10</td>\n",
              "      <td>8.249356e+10</td>\n",
              "      <td>536100.0</td>\n",
              "      <td>-492015.0</td>\n",
              "    </tr>\n",
              "    <tr>\n",
              "      <th>1</th>\n",
              "      <td>27-Dec-23</td>\n",
              "      <td>28-Dec-23</td>\n",
              "      <td>XX</td>\n",
              "      <td>-</td>\n",
              "      <td>47904.75</td>\n",
              "      <td>48443.00</td>\n",
              "      <td>47856.05</td>\n",
              "      <td>48359.95</td>\n",
              "      <td>48365.00</td>\n",
              "      <td>48359.95</td>\n",
              "      <td>2174190.0</td>\n",
              "      <td>1.046535e+11</td>\n",
              "      <td>1.046535e+11</td>\n",
              "      <td>1028115.0</td>\n",
              "      <td>-131190.0</td>\n",
              "    </tr>\n",
              "    <tr>\n",
              "      <th>2</th>\n",
              "      <td>26-Dec-23</td>\n",
              "      <td>28-Dec-23</td>\n",
              "      <td>XX</td>\n",
              "      <td>-</td>\n",
              "      <td>47596.60</td>\n",
              "      <td>47971.95</td>\n",
              "      <td>47450.45</td>\n",
              "      <td>47825.45</td>\n",
              "      <td>47887.25</td>\n",
              "      <td>47825.45</td>\n",
              "      <td>2072670.0</td>\n",
              "      <td>9.900198e+10</td>\n",
              "      <td>9.900198e+10</td>\n",
              "      <td>1159305.0</td>\n",
              "      <td>-250920.0</td>\n",
              "    </tr>\n",
              "    <tr>\n",
              "      <th>3</th>\n",
              "      <td>22-Dec-23</td>\n",
              "      <td>28-Dec-23</td>\n",
              "      <td>XX</td>\n",
              "      <td>-</td>\n",
              "      <td>48105.00</td>\n",
              "      <td>48280.15</td>\n",
              "      <td>47470.80</td>\n",
              "      <td>47575.60</td>\n",
              "      <td>47532.00</td>\n",
              "      <td>47575.60</td>\n",
              "      <td>3124755.0</td>\n",
              "      <td>1.495615e+11</td>\n",
              "      <td>1.495615e+11</td>\n",
              "      <td>1410225.0</td>\n",
              "      <td>-294075.0</td>\n",
              "    </tr>\n",
              "    <tr>\n",
              "      <th>4</th>\n",
              "      <td>21-Dec-23</td>\n",
              "      <td>28-Dec-23</td>\n",
              "      <td>XX</td>\n",
              "      <td>-</td>\n",
              "      <td>47245.00</td>\n",
              "      <td>48207.95</td>\n",
              "      <td>46964.70</td>\n",
              "      <td>48105.00</td>\n",
              "      <td>48107.90</td>\n",
              "      <td>48105.00</td>\n",
              "      <td>3970290.0</td>\n",
              "      <td>1.890067e+11</td>\n",
              "      <td>1.890067e+11</td>\n",
              "      <td>1704300.0</td>\n",
              "      <td>-64890.0</td>\n",
              "    </tr>\n",
              "  </tbody>\n",
              "</table>\n",
              "</div>\n",
              "    <div class=\"colab-df-buttons\">\n",
              "\n",
              "  <div class=\"colab-df-container\">\n",
              "    <button class=\"colab-df-convert\" onclick=\"convertToInteractive('df-5dcffad4-937a-47ad-add9-760ef2d7c3e6')\"\n",
              "            title=\"Convert this dataframe to an interactive table.\"\n",
              "            style=\"display:none;\">\n",
              "\n",
              "  <svg xmlns=\"http://www.w3.org/2000/svg\" height=\"24px\" viewBox=\"0 -960 960 960\">\n",
              "    <path d=\"M120-120v-720h720v720H120Zm60-500h600v-160H180v160Zm220 220h160v-160H400v160Zm0 220h160v-160H400v160ZM180-400h160v-160H180v160Zm440 0h160v-160H620v160ZM180-180h160v-160H180v160Zm440 0h160v-160H620v160Z\"/>\n",
              "  </svg>\n",
              "    </button>\n",
              "\n",
              "  <style>\n",
              "    .colab-df-container {\n",
              "      display:flex;\n",
              "      gap: 12px;\n",
              "    }\n",
              "\n",
              "    .colab-df-convert {\n",
              "      background-color: #E8F0FE;\n",
              "      border: none;\n",
              "      border-radius: 50%;\n",
              "      cursor: pointer;\n",
              "      display: none;\n",
              "      fill: #1967D2;\n",
              "      height: 32px;\n",
              "      padding: 0 0 0 0;\n",
              "      width: 32px;\n",
              "    }\n",
              "\n",
              "    .colab-df-convert:hover {\n",
              "      background-color: #E2EBFA;\n",
              "      box-shadow: 0px 1px 2px rgba(60, 64, 67, 0.3), 0px 1px 3px 1px rgba(60, 64, 67, 0.15);\n",
              "      fill: #174EA6;\n",
              "    }\n",
              "\n",
              "    .colab-df-buttons div {\n",
              "      margin-bottom: 4px;\n",
              "    }\n",
              "\n",
              "    [theme=dark] .colab-df-convert {\n",
              "      background-color: #3B4455;\n",
              "      fill: #D2E3FC;\n",
              "    }\n",
              "\n",
              "    [theme=dark] .colab-df-convert:hover {\n",
              "      background-color: #434B5C;\n",
              "      box-shadow: 0px 1px 3px 1px rgba(0, 0, 0, 0.15);\n",
              "      filter: drop-shadow(0px 1px 2px rgba(0, 0, 0, 0.3));\n",
              "      fill: #FFFFFF;\n",
              "    }\n",
              "  </style>\n",
              "\n",
              "    <script>\n",
              "      const buttonEl =\n",
              "        document.querySelector('#df-5dcffad4-937a-47ad-add9-760ef2d7c3e6 button.colab-df-convert');\n",
              "      buttonEl.style.display =\n",
              "        google.colab.kernel.accessAllowed ? 'block' : 'none';\n",
              "\n",
              "      async function convertToInteractive(key) {\n",
              "        const element = document.querySelector('#df-5dcffad4-937a-47ad-add9-760ef2d7c3e6');\n",
              "        const dataTable =\n",
              "          await google.colab.kernel.invokeFunction('convertToInteractive',\n",
              "                                                    [key], {});\n",
              "        if (!dataTable) return;\n",
              "\n",
              "        const docLinkHtml = 'Like what you see? Visit the ' +\n",
              "          '<a target=\"_blank\" href=https://colab.research.google.com/notebooks/data_table.ipynb>data table notebook</a>'\n",
              "          + ' to learn more about interactive tables.';\n",
              "        element.innerHTML = '';\n",
              "        dataTable['output_type'] = 'display_data';\n",
              "        await google.colab.output.renderOutput(dataTable, element);\n",
              "        const docLink = document.createElement('div');\n",
              "        docLink.innerHTML = docLinkHtml;\n",
              "        element.appendChild(docLink);\n",
              "      }\n",
              "    </script>\n",
              "  </div>\n",
              "\n",
              "\n",
              "<div id=\"df-510dd3e4-8ca4-4fc0-87a5-79111186483d\">\n",
              "  <button class=\"colab-df-quickchart\" onclick=\"quickchart('df-510dd3e4-8ca4-4fc0-87a5-79111186483d')\"\n",
              "            title=\"Suggest charts\"\n",
              "            style=\"display:none;\">\n",
              "\n",
              "<svg xmlns=\"http://www.w3.org/2000/svg\" height=\"24px\"viewBox=\"0 0 24 24\"\n",
              "     width=\"24px\">\n",
              "    <g>\n",
              "        <path d=\"M19 3H5c-1.1 0-2 .9-2 2v14c0 1.1.9 2 2 2h14c1.1 0 2-.9 2-2V5c0-1.1-.9-2-2-2zM9 17H7v-7h2v7zm4 0h-2V7h2v10zm4 0h-2v-4h2v4z\"/>\n",
              "    </g>\n",
              "</svg>\n",
              "  </button>\n",
              "\n",
              "<style>\n",
              "  .colab-df-quickchart {\n",
              "      --bg-color: #E8F0FE;\n",
              "      --fill-color: #1967D2;\n",
              "      --hover-bg-color: #E2EBFA;\n",
              "      --hover-fill-color: #174EA6;\n",
              "      --disabled-fill-color: #AAA;\n",
              "      --disabled-bg-color: #DDD;\n",
              "  }\n",
              "\n",
              "  [theme=dark] .colab-df-quickchart {\n",
              "      --bg-color: #3B4455;\n",
              "      --fill-color: #D2E3FC;\n",
              "      --hover-bg-color: #434B5C;\n",
              "      --hover-fill-color: #FFFFFF;\n",
              "      --disabled-bg-color: #3B4455;\n",
              "      --disabled-fill-color: #666;\n",
              "  }\n",
              "\n",
              "  .colab-df-quickchart {\n",
              "    background-color: var(--bg-color);\n",
              "    border: none;\n",
              "    border-radius: 50%;\n",
              "    cursor: pointer;\n",
              "    display: none;\n",
              "    fill: var(--fill-color);\n",
              "    height: 32px;\n",
              "    padding: 0;\n",
              "    width: 32px;\n",
              "  }\n",
              "\n",
              "  .colab-df-quickchart:hover {\n",
              "    background-color: var(--hover-bg-color);\n",
              "    box-shadow: 0 1px 2px rgba(60, 64, 67, 0.3), 0 1px 3px 1px rgba(60, 64, 67, 0.15);\n",
              "    fill: var(--button-hover-fill-color);\n",
              "  }\n",
              "\n",
              "  .colab-df-quickchart-complete:disabled,\n",
              "  .colab-df-quickchart-complete:disabled:hover {\n",
              "    background-color: var(--disabled-bg-color);\n",
              "    fill: var(--disabled-fill-color);\n",
              "    box-shadow: none;\n",
              "  }\n",
              "\n",
              "  .colab-df-spinner {\n",
              "    border: 2px solid var(--fill-color);\n",
              "    border-color: transparent;\n",
              "    border-bottom-color: var(--fill-color);\n",
              "    animation:\n",
              "      spin 1s steps(1) infinite;\n",
              "  }\n",
              "\n",
              "  @keyframes spin {\n",
              "    0% {\n",
              "      border-color: transparent;\n",
              "      border-bottom-color: var(--fill-color);\n",
              "      border-left-color: var(--fill-color);\n",
              "    }\n",
              "    20% {\n",
              "      border-color: transparent;\n",
              "      border-left-color: var(--fill-color);\n",
              "      border-top-color: var(--fill-color);\n",
              "    }\n",
              "    30% {\n",
              "      border-color: transparent;\n",
              "      border-left-color: var(--fill-color);\n",
              "      border-top-color: var(--fill-color);\n",
              "      border-right-color: var(--fill-color);\n",
              "    }\n",
              "    40% {\n",
              "      border-color: transparent;\n",
              "      border-right-color: var(--fill-color);\n",
              "      border-top-color: var(--fill-color);\n",
              "    }\n",
              "    60% {\n",
              "      border-color: transparent;\n",
              "      border-right-color: var(--fill-color);\n",
              "    }\n",
              "    80% {\n",
              "      border-color: transparent;\n",
              "      border-right-color: var(--fill-color);\n",
              "      border-bottom-color: var(--fill-color);\n",
              "    }\n",
              "    90% {\n",
              "      border-color: transparent;\n",
              "      border-bottom-color: var(--fill-color);\n",
              "    }\n",
              "  }\n",
              "</style>\n",
              "\n",
              "  <script>\n",
              "    async function quickchart(key) {\n",
              "      const quickchartButtonEl =\n",
              "        document.querySelector('#' + key + ' button');\n",
              "      quickchartButtonEl.disabled = true;  // To prevent multiple clicks.\n",
              "      quickchartButtonEl.classList.add('colab-df-spinner');\n",
              "      try {\n",
              "        const charts = await google.colab.kernel.invokeFunction(\n",
              "            'suggestCharts', [key], {});\n",
              "      } catch (error) {\n",
              "        console.error('Error during call to suggestCharts:', error);\n",
              "      }\n",
              "      quickchartButtonEl.classList.remove('colab-df-spinner');\n",
              "      quickchartButtonEl.classList.add('colab-df-quickchart-complete');\n",
              "    }\n",
              "    (() => {\n",
              "      let quickchartButtonEl =\n",
              "        document.querySelector('#df-510dd3e4-8ca4-4fc0-87a5-79111186483d button');\n",
              "      quickchartButtonEl.style.display =\n",
              "        google.colab.kernel.accessAllowed ? 'block' : 'none';\n",
              "    })();\n",
              "  </script>\n",
              "</div>\n",
              "\n",
              "    </div>\n",
              "  </div>\n"
            ]
          },
          "metadata": {},
          "execution_count": 293
        }
      ],
      "source": [
        "df_fut = pd.read_csv(\"/content/Quote-FAO-BANKNIFTY-01-12-2023-to-12-01-2024.csv\")  #Fill in with the address of where you downloaded the file. You can check in properties of the file\n",
        "df_fut.head()"
      ]
    },
    {
      "cell_type": "code",
      "execution_count": 294,
      "metadata": {
        "id": "dWfJrfbtE2cy",
        "colab": {
          "base_uri": "https://localhost:8080/",
          "height": 310
        },
        "outputId": "af4e946d-e69b-4072-ad47-f3c82bab5f77"
      },
      "outputs": [
        {
          "output_type": "execute_result",
          "data": {
            "text/plain": [
              "       DATE  EXPIRY DATE  OPTION TYPE   STRIKE PRICE   OPEN PRICE   \\\n",
              "0  28-Dec-23    28-Dec-23           CE        49000.0         34.0   \n",
              "1  27-Dec-23    28-Dec-23           CE        49000.0          6.8   \n",
              "2  26-Dec-23    28-Dec-23           CE        49000.0         17.7   \n",
              "3  22-Dec-23    28-Dec-23           CE        49000.0         62.0   \n",
              "4  21-Dec-23    28-Dec-23           CE        49000.0         31.4   \n",
              "\n",
              "   HIGH PRICE   LOW PRICE   CLOSE PRICE   LAST PRICE   SETTLE PRICE   \\\n",
              "0        50.00        0.05          0.50         0.05       48508.55   \n",
              "1        26.90        5.75         13.00        10.50          13.00   \n",
              "2        21.25        6.55          7.30         7.00           7.30   \n",
              "3       103.75       16.10         21.35        18.90          21.35   \n",
              "4        90.00       20.15         72.70        71.00          72.70   \n",
              "\n",
              "       Volume         VALUE   PREMIUM VALUE   OPEN INTEREST   CHANGE IN OI   \n",
              "0  230202270.0  1.128303e+13    3.120065e+09       2652915.0     -1243845.0  \n",
              "1  129285975.0  6.336467e+12    1.454183e+09       3896760.0       479370.0  \n",
              "2   29293290.0  1.435734e+12    3.625868e+08       3417390.0       972390.0  \n",
              "3   35468565.0  1.739623e+12    1.663717e+09       2445000.0       843660.0  \n",
              "4   23710590.0  1.162912e+12    1.092940e+09       1601340.0       542610.0  "
            ],
            "text/html": [
              "\n",
              "  <div id=\"df-3ab80c68-74da-490c-9a02-b90fcc3ea99a\" class=\"colab-df-container\">\n",
              "    <div>\n",
              "<style scoped>\n",
              "    .dataframe tbody tr th:only-of-type {\n",
              "        vertical-align: middle;\n",
              "    }\n",
              "\n",
              "    .dataframe tbody tr th {\n",
              "        vertical-align: top;\n",
              "    }\n",
              "\n",
              "    .dataframe thead th {\n",
              "        text-align: right;\n",
              "    }\n",
              "</style>\n",
              "<table border=\"1\" class=\"dataframe\">\n",
              "  <thead>\n",
              "    <tr style=\"text-align: right;\">\n",
              "      <th></th>\n",
              "      <th>DATE</th>\n",
              "      <th>EXPIRY DATE</th>\n",
              "      <th>OPTION TYPE</th>\n",
              "      <th>STRIKE PRICE</th>\n",
              "      <th>OPEN PRICE</th>\n",
              "      <th>HIGH PRICE</th>\n",
              "      <th>LOW PRICE</th>\n",
              "      <th>CLOSE PRICE</th>\n",
              "      <th>LAST PRICE</th>\n",
              "      <th>SETTLE PRICE</th>\n",
              "      <th>Volume</th>\n",
              "      <th>VALUE</th>\n",
              "      <th>PREMIUM VALUE</th>\n",
              "      <th>OPEN INTEREST</th>\n",
              "      <th>CHANGE IN OI</th>\n",
              "    </tr>\n",
              "  </thead>\n",
              "  <tbody>\n",
              "    <tr>\n",
              "      <th>0</th>\n",
              "      <td>28-Dec-23</td>\n",
              "      <td>28-Dec-23</td>\n",
              "      <td>CE</td>\n",
              "      <td>49000.0</td>\n",
              "      <td>34.0</td>\n",
              "      <td>50.00</td>\n",
              "      <td>0.05</td>\n",
              "      <td>0.50</td>\n",
              "      <td>0.05</td>\n",
              "      <td>48508.55</td>\n",
              "      <td>230202270.0</td>\n",
              "      <td>1.128303e+13</td>\n",
              "      <td>3.120065e+09</td>\n",
              "      <td>2652915.0</td>\n",
              "      <td>-1243845.0</td>\n",
              "    </tr>\n",
              "    <tr>\n",
              "      <th>1</th>\n",
              "      <td>27-Dec-23</td>\n",
              "      <td>28-Dec-23</td>\n",
              "      <td>CE</td>\n",
              "      <td>49000.0</td>\n",
              "      <td>6.8</td>\n",
              "      <td>26.90</td>\n",
              "      <td>5.75</td>\n",
              "      <td>13.00</td>\n",
              "      <td>10.50</td>\n",
              "      <td>13.00</td>\n",
              "      <td>129285975.0</td>\n",
              "      <td>6.336467e+12</td>\n",
              "      <td>1.454183e+09</td>\n",
              "      <td>3896760.0</td>\n",
              "      <td>479370.0</td>\n",
              "    </tr>\n",
              "    <tr>\n",
              "      <th>2</th>\n",
              "      <td>26-Dec-23</td>\n",
              "      <td>28-Dec-23</td>\n",
              "      <td>CE</td>\n",
              "      <td>49000.0</td>\n",
              "      <td>17.7</td>\n",
              "      <td>21.25</td>\n",
              "      <td>6.55</td>\n",
              "      <td>7.30</td>\n",
              "      <td>7.00</td>\n",
              "      <td>7.30</td>\n",
              "      <td>29293290.0</td>\n",
              "      <td>1.435734e+12</td>\n",
              "      <td>3.625868e+08</td>\n",
              "      <td>3417390.0</td>\n",
              "      <td>972390.0</td>\n",
              "    </tr>\n",
              "    <tr>\n",
              "      <th>3</th>\n",
              "      <td>22-Dec-23</td>\n",
              "      <td>28-Dec-23</td>\n",
              "      <td>CE</td>\n",
              "      <td>49000.0</td>\n",
              "      <td>62.0</td>\n",
              "      <td>103.75</td>\n",
              "      <td>16.10</td>\n",
              "      <td>21.35</td>\n",
              "      <td>18.90</td>\n",
              "      <td>21.35</td>\n",
              "      <td>35468565.0</td>\n",
              "      <td>1.739623e+12</td>\n",
              "      <td>1.663717e+09</td>\n",
              "      <td>2445000.0</td>\n",
              "      <td>843660.0</td>\n",
              "    </tr>\n",
              "    <tr>\n",
              "      <th>4</th>\n",
              "      <td>21-Dec-23</td>\n",
              "      <td>28-Dec-23</td>\n",
              "      <td>CE</td>\n",
              "      <td>49000.0</td>\n",
              "      <td>31.4</td>\n",
              "      <td>90.00</td>\n",
              "      <td>20.15</td>\n",
              "      <td>72.70</td>\n",
              "      <td>71.00</td>\n",
              "      <td>72.70</td>\n",
              "      <td>23710590.0</td>\n",
              "      <td>1.162912e+12</td>\n",
              "      <td>1.092940e+09</td>\n",
              "      <td>1601340.0</td>\n",
              "      <td>542610.0</td>\n",
              "    </tr>\n",
              "  </tbody>\n",
              "</table>\n",
              "</div>\n",
              "    <div class=\"colab-df-buttons\">\n",
              "\n",
              "  <div class=\"colab-df-container\">\n",
              "    <button class=\"colab-df-convert\" onclick=\"convertToInteractive('df-3ab80c68-74da-490c-9a02-b90fcc3ea99a')\"\n",
              "            title=\"Convert this dataframe to an interactive table.\"\n",
              "            style=\"display:none;\">\n",
              "\n",
              "  <svg xmlns=\"http://www.w3.org/2000/svg\" height=\"24px\" viewBox=\"0 -960 960 960\">\n",
              "    <path d=\"M120-120v-720h720v720H120Zm60-500h600v-160H180v160Zm220 220h160v-160H400v160Zm0 220h160v-160H400v160ZM180-400h160v-160H180v160Zm440 0h160v-160H620v160ZM180-180h160v-160H180v160Zm440 0h160v-160H620v160Z\"/>\n",
              "  </svg>\n",
              "    </button>\n",
              "\n",
              "  <style>\n",
              "    .colab-df-container {\n",
              "      display:flex;\n",
              "      gap: 12px;\n",
              "    }\n",
              "\n",
              "    .colab-df-convert {\n",
              "      background-color: #E8F0FE;\n",
              "      border: none;\n",
              "      border-radius: 50%;\n",
              "      cursor: pointer;\n",
              "      display: none;\n",
              "      fill: #1967D2;\n",
              "      height: 32px;\n",
              "      padding: 0 0 0 0;\n",
              "      width: 32px;\n",
              "    }\n",
              "\n",
              "    .colab-df-convert:hover {\n",
              "      background-color: #E2EBFA;\n",
              "      box-shadow: 0px 1px 2px rgba(60, 64, 67, 0.3), 0px 1px 3px 1px rgba(60, 64, 67, 0.15);\n",
              "      fill: #174EA6;\n",
              "    }\n",
              "\n",
              "    .colab-df-buttons div {\n",
              "      margin-bottom: 4px;\n",
              "    }\n",
              "\n",
              "    [theme=dark] .colab-df-convert {\n",
              "      background-color: #3B4455;\n",
              "      fill: #D2E3FC;\n",
              "    }\n",
              "\n",
              "    [theme=dark] .colab-df-convert:hover {\n",
              "      background-color: #434B5C;\n",
              "      box-shadow: 0px 1px 3px 1px rgba(0, 0, 0, 0.15);\n",
              "      filter: drop-shadow(0px 1px 2px rgba(0, 0, 0, 0.3));\n",
              "      fill: #FFFFFF;\n",
              "    }\n",
              "  </style>\n",
              "\n",
              "    <script>\n",
              "      const buttonEl =\n",
              "        document.querySelector('#df-3ab80c68-74da-490c-9a02-b90fcc3ea99a button.colab-df-convert');\n",
              "      buttonEl.style.display =\n",
              "        google.colab.kernel.accessAllowed ? 'block' : 'none';\n",
              "\n",
              "      async function convertToInteractive(key) {\n",
              "        const element = document.querySelector('#df-3ab80c68-74da-490c-9a02-b90fcc3ea99a');\n",
              "        const dataTable =\n",
              "          await google.colab.kernel.invokeFunction('convertToInteractive',\n",
              "                                                    [key], {});\n",
              "        if (!dataTable) return;\n",
              "\n",
              "        const docLinkHtml = 'Like what you see? Visit the ' +\n",
              "          '<a target=\"_blank\" href=https://colab.research.google.com/notebooks/data_table.ipynb>data table notebook</a>'\n",
              "          + ' to learn more about interactive tables.';\n",
              "        element.innerHTML = '';\n",
              "        dataTable['output_type'] = 'display_data';\n",
              "        await google.colab.output.renderOutput(dataTable, element);\n",
              "        const docLink = document.createElement('div');\n",
              "        docLink.innerHTML = docLinkHtml;\n",
              "        element.appendChild(docLink);\n",
              "      }\n",
              "    </script>\n",
              "  </div>\n",
              "\n",
              "\n",
              "<div id=\"df-f016928e-1309-4d71-a975-aca3f556f905\">\n",
              "  <button class=\"colab-df-quickchart\" onclick=\"quickchart('df-f016928e-1309-4d71-a975-aca3f556f905')\"\n",
              "            title=\"Suggest charts\"\n",
              "            style=\"display:none;\">\n",
              "\n",
              "<svg xmlns=\"http://www.w3.org/2000/svg\" height=\"24px\"viewBox=\"0 0 24 24\"\n",
              "     width=\"24px\">\n",
              "    <g>\n",
              "        <path d=\"M19 3H5c-1.1 0-2 .9-2 2v14c0 1.1.9 2 2 2h14c1.1 0 2-.9 2-2V5c0-1.1-.9-2-2-2zM9 17H7v-7h2v7zm4 0h-2V7h2v10zm4 0h-2v-4h2v4z\"/>\n",
              "    </g>\n",
              "</svg>\n",
              "  </button>\n",
              "\n",
              "<style>\n",
              "  .colab-df-quickchart {\n",
              "      --bg-color: #E8F0FE;\n",
              "      --fill-color: #1967D2;\n",
              "      --hover-bg-color: #E2EBFA;\n",
              "      --hover-fill-color: #174EA6;\n",
              "      --disabled-fill-color: #AAA;\n",
              "      --disabled-bg-color: #DDD;\n",
              "  }\n",
              "\n",
              "  [theme=dark] .colab-df-quickchart {\n",
              "      --bg-color: #3B4455;\n",
              "      --fill-color: #D2E3FC;\n",
              "      --hover-bg-color: #434B5C;\n",
              "      --hover-fill-color: #FFFFFF;\n",
              "      --disabled-bg-color: #3B4455;\n",
              "      --disabled-fill-color: #666;\n",
              "  }\n",
              "\n",
              "  .colab-df-quickchart {\n",
              "    background-color: var(--bg-color);\n",
              "    border: none;\n",
              "    border-radius: 50%;\n",
              "    cursor: pointer;\n",
              "    display: none;\n",
              "    fill: var(--fill-color);\n",
              "    height: 32px;\n",
              "    padding: 0;\n",
              "    width: 32px;\n",
              "  }\n",
              "\n",
              "  .colab-df-quickchart:hover {\n",
              "    background-color: var(--hover-bg-color);\n",
              "    box-shadow: 0 1px 2px rgba(60, 64, 67, 0.3), 0 1px 3px 1px rgba(60, 64, 67, 0.15);\n",
              "    fill: var(--button-hover-fill-color);\n",
              "  }\n",
              "\n",
              "  .colab-df-quickchart-complete:disabled,\n",
              "  .colab-df-quickchart-complete:disabled:hover {\n",
              "    background-color: var(--disabled-bg-color);\n",
              "    fill: var(--disabled-fill-color);\n",
              "    box-shadow: none;\n",
              "  }\n",
              "\n",
              "  .colab-df-spinner {\n",
              "    border: 2px solid var(--fill-color);\n",
              "    border-color: transparent;\n",
              "    border-bottom-color: var(--fill-color);\n",
              "    animation:\n",
              "      spin 1s steps(1) infinite;\n",
              "  }\n",
              "\n",
              "  @keyframes spin {\n",
              "    0% {\n",
              "      border-color: transparent;\n",
              "      border-bottom-color: var(--fill-color);\n",
              "      border-left-color: var(--fill-color);\n",
              "    }\n",
              "    20% {\n",
              "      border-color: transparent;\n",
              "      border-left-color: var(--fill-color);\n",
              "      border-top-color: var(--fill-color);\n",
              "    }\n",
              "    30% {\n",
              "      border-color: transparent;\n",
              "      border-left-color: var(--fill-color);\n",
              "      border-top-color: var(--fill-color);\n",
              "      border-right-color: var(--fill-color);\n",
              "    }\n",
              "    40% {\n",
              "      border-color: transparent;\n",
              "      border-right-color: var(--fill-color);\n",
              "      border-top-color: var(--fill-color);\n",
              "    }\n",
              "    60% {\n",
              "      border-color: transparent;\n",
              "      border-right-color: var(--fill-color);\n",
              "    }\n",
              "    80% {\n",
              "      border-color: transparent;\n",
              "      border-right-color: var(--fill-color);\n",
              "      border-bottom-color: var(--fill-color);\n",
              "    }\n",
              "    90% {\n",
              "      border-color: transparent;\n",
              "      border-bottom-color: var(--fill-color);\n",
              "    }\n",
              "  }\n",
              "</style>\n",
              "\n",
              "  <script>\n",
              "    async function quickchart(key) {\n",
              "      const quickchartButtonEl =\n",
              "        document.querySelector('#' + key + ' button');\n",
              "      quickchartButtonEl.disabled = true;  // To prevent multiple clicks.\n",
              "      quickchartButtonEl.classList.add('colab-df-spinner');\n",
              "      try {\n",
              "        const charts = await google.colab.kernel.invokeFunction(\n",
              "            'suggestCharts', [key], {});\n",
              "      } catch (error) {\n",
              "        console.error('Error during call to suggestCharts:', error);\n",
              "      }\n",
              "      quickchartButtonEl.classList.remove('colab-df-spinner');\n",
              "      quickchartButtonEl.classList.add('colab-df-quickchart-complete');\n",
              "    }\n",
              "    (() => {\n",
              "      let quickchartButtonEl =\n",
              "        document.querySelector('#df-f016928e-1309-4d71-a975-aca3f556f905 button');\n",
              "      quickchartButtonEl.style.display =\n",
              "        google.colab.kernel.accessAllowed ? 'block' : 'none';\n",
              "    })();\n",
              "  </script>\n",
              "</div>\n",
              "\n",
              "    </div>\n",
              "  </div>\n"
            ]
          },
          "metadata": {},
          "execution_count": 294
        }
      ],
      "source": [
        "df_call_49000 = pd.read_csv('/content/49000_Quote-FAO-BANKNIFTY-01-12-2023-to-12-01-2024.csv')\n",
        "df_call_49000.head()"
      ]
    },
    {
      "cell_type": "code",
      "execution_count": 295,
      "metadata": {
        "id": "OdNi1apQE2cz",
        "colab": {
          "base_uri": "https://localhost:8080/",
          "height": 255
        },
        "outputId": "3f6e67aa-118d-4c86-a17d-6a6cf90a227c"
      },
      "outputs": [
        {
          "output_type": "stream",
          "name": "stdout",
          "text": [
            "\r[*********************100%%**********************]  1 of 1 completed\n"
          ]
        },
        {
          "output_type": "execute_result",
          "data": {
            "text/plain": [
              "                    Open          High           Low         Close  \\\n",
              "Date                                                                 \n",
              "2023-12-01  44580.148438  44951.101562  44531.750000  44814.199219   \n",
              "2023-12-04  45671.500000  46484.449219  45484.199219  46431.398438   \n",
              "2023-12-05  46895.898438  47230.550781  46653.648438  47012.250000   \n",
              "2023-12-06  47256.750000  47259.851562  46750.199219  46834.550781   \n",
              "2023-12-07  46735.398438  46927.699219  46507.148438  46841.398438   \n",
              "\n",
              "               Adj Close  Volume  \n",
              "Date                              \n",
              "2023-12-01  44814.199219  204900  \n",
              "2023-12-04  46431.398438  311200  \n",
              "2023-12-05  47012.250000  326100  \n",
              "2023-12-06  46834.550781  244200  \n",
              "2023-12-07  46841.398438  208100  "
            ],
            "text/html": [
              "\n",
              "  <div id=\"df-df5fba34-1662-4469-a3e5-95beca2841ba\" class=\"colab-df-container\">\n",
              "    <div>\n",
              "<style scoped>\n",
              "    .dataframe tbody tr th:only-of-type {\n",
              "        vertical-align: middle;\n",
              "    }\n",
              "\n",
              "    .dataframe tbody tr th {\n",
              "        vertical-align: top;\n",
              "    }\n",
              "\n",
              "    .dataframe thead th {\n",
              "        text-align: right;\n",
              "    }\n",
              "</style>\n",
              "<table border=\"1\" class=\"dataframe\">\n",
              "  <thead>\n",
              "    <tr style=\"text-align: right;\">\n",
              "      <th></th>\n",
              "      <th>Open</th>\n",
              "      <th>High</th>\n",
              "      <th>Low</th>\n",
              "      <th>Close</th>\n",
              "      <th>Adj Close</th>\n",
              "      <th>Volume</th>\n",
              "    </tr>\n",
              "    <tr>\n",
              "      <th>Date</th>\n",
              "      <th></th>\n",
              "      <th></th>\n",
              "      <th></th>\n",
              "      <th></th>\n",
              "      <th></th>\n",
              "      <th></th>\n",
              "    </tr>\n",
              "  </thead>\n",
              "  <tbody>\n",
              "    <tr>\n",
              "      <th>2023-12-01</th>\n",
              "      <td>44580.148438</td>\n",
              "      <td>44951.101562</td>\n",
              "      <td>44531.750000</td>\n",
              "      <td>44814.199219</td>\n",
              "      <td>44814.199219</td>\n",
              "      <td>204900</td>\n",
              "    </tr>\n",
              "    <tr>\n",
              "      <th>2023-12-04</th>\n",
              "      <td>45671.500000</td>\n",
              "      <td>46484.449219</td>\n",
              "      <td>45484.199219</td>\n",
              "      <td>46431.398438</td>\n",
              "      <td>46431.398438</td>\n",
              "      <td>311200</td>\n",
              "    </tr>\n",
              "    <tr>\n",
              "      <th>2023-12-05</th>\n",
              "      <td>46895.898438</td>\n",
              "      <td>47230.550781</td>\n",
              "      <td>46653.648438</td>\n",
              "      <td>47012.250000</td>\n",
              "      <td>47012.250000</td>\n",
              "      <td>326100</td>\n",
              "    </tr>\n",
              "    <tr>\n",
              "      <th>2023-12-06</th>\n",
              "      <td>47256.750000</td>\n",
              "      <td>47259.851562</td>\n",
              "      <td>46750.199219</td>\n",
              "      <td>46834.550781</td>\n",
              "      <td>46834.550781</td>\n",
              "      <td>244200</td>\n",
              "    </tr>\n",
              "    <tr>\n",
              "      <th>2023-12-07</th>\n",
              "      <td>46735.398438</td>\n",
              "      <td>46927.699219</td>\n",
              "      <td>46507.148438</td>\n",
              "      <td>46841.398438</td>\n",
              "      <td>46841.398438</td>\n",
              "      <td>208100</td>\n",
              "    </tr>\n",
              "  </tbody>\n",
              "</table>\n",
              "</div>\n",
              "    <div class=\"colab-df-buttons\">\n",
              "\n",
              "  <div class=\"colab-df-container\">\n",
              "    <button class=\"colab-df-convert\" onclick=\"convertToInteractive('df-df5fba34-1662-4469-a3e5-95beca2841ba')\"\n",
              "            title=\"Convert this dataframe to an interactive table.\"\n",
              "            style=\"display:none;\">\n",
              "\n",
              "  <svg xmlns=\"http://www.w3.org/2000/svg\" height=\"24px\" viewBox=\"0 -960 960 960\">\n",
              "    <path d=\"M120-120v-720h720v720H120Zm60-500h600v-160H180v160Zm220 220h160v-160H400v160Zm0 220h160v-160H400v160ZM180-400h160v-160H180v160Zm440 0h160v-160H620v160ZM180-180h160v-160H180v160Zm440 0h160v-160H620v160Z\"/>\n",
              "  </svg>\n",
              "    </button>\n",
              "\n",
              "  <style>\n",
              "    .colab-df-container {\n",
              "      display:flex;\n",
              "      gap: 12px;\n",
              "    }\n",
              "\n",
              "    .colab-df-convert {\n",
              "      background-color: #E8F0FE;\n",
              "      border: none;\n",
              "      border-radius: 50%;\n",
              "      cursor: pointer;\n",
              "      display: none;\n",
              "      fill: #1967D2;\n",
              "      height: 32px;\n",
              "      padding: 0 0 0 0;\n",
              "      width: 32px;\n",
              "    }\n",
              "\n",
              "    .colab-df-convert:hover {\n",
              "      background-color: #E2EBFA;\n",
              "      box-shadow: 0px 1px 2px rgba(60, 64, 67, 0.3), 0px 1px 3px 1px rgba(60, 64, 67, 0.15);\n",
              "      fill: #174EA6;\n",
              "    }\n",
              "\n",
              "    .colab-df-buttons div {\n",
              "      margin-bottom: 4px;\n",
              "    }\n",
              "\n",
              "    [theme=dark] .colab-df-convert {\n",
              "      background-color: #3B4455;\n",
              "      fill: #D2E3FC;\n",
              "    }\n",
              "\n",
              "    [theme=dark] .colab-df-convert:hover {\n",
              "      background-color: #434B5C;\n",
              "      box-shadow: 0px 1px 3px 1px rgba(0, 0, 0, 0.15);\n",
              "      filter: drop-shadow(0px 1px 2px rgba(0, 0, 0, 0.3));\n",
              "      fill: #FFFFFF;\n",
              "    }\n",
              "  </style>\n",
              "\n",
              "    <script>\n",
              "      const buttonEl =\n",
              "        document.querySelector('#df-df5fba34-1662-4469-a3e5-95beca2841ba button.colab-df-convert');\n",
              "      buttonEl.style.display =\n",
              "        google.colab.kernel.accessAllowed ? 'block' : 'none';\n",
              "\n",
              "      async function convertToInteractive(key) {\n",
              "        const element = document.querySelector('#df-df5fba34-1662-4469-a3e5-95beca2841ba');\n",
              "        const dataTable =\n",
              "          await google.colab.kernel.invokeFunction('convertToInteractive',\n",
              "                                                    [key], {});\n",
              "        if (!dataTable) return;\n",
              "\n",
              "        const docLinkHtml = 'Like what you see? Visit the ' +\n",
              "          '<a target=\"_blank\" href=https://colab.research.google.com/notebooks/data_table.ipynb>data table notebook</a>'\n",
              "          + ' to learn more about interactive tables.';\n",
              "        element.innerHTML = '';\n",
              "        dataTable['output_type'] = 'display_data';\n",
              "        await google.colab.output.renderOutput(dataTable, element);\n",
              "        const docLink = document.createElement('div');\n",
              "        docLink.innerHTML = docLinkHtml;\n",
              "        element.appendChild(docLink);\n",
              "      }\n",
              "    </script>\n",
              "  </div>\n",
              "\n",
              "\n",
              "<div id=\"df-527387c3-53de-4749-a861-79bdcb3fa8a5\">\n",
              "  <button class=\"colab-df-quickchart\" onclick=\"quickchart('df-527387c3-53de-4749-a861-79bdcb3fa8a5')\"\n",
              "            title=\"Suggest charts\"\n",
              "            style=\"display:none;\">\n",
              "\n",
              "<svg xmlns=\"http://www.w3.org/2000/svg\" height=\"24px\"viewBox=\"0 0 24 24\"\n",
              "     width=\"24px\">\n",
              "    <g>\n",
              "        <path d=\"M19 3H5c-1.1 0-2 .9-2 2v14c0 1.1.9 2 2 2h14c1.1 0 2-.9 2-2V5c0-1.1-.9-2-2-2zM9 17H7v-7h2v7zm4 0h-2V7h2v10zm4 0h-2v-4h2v4z\"/>\n",
              "    </g>\n",
              "</svg>\n",
              "  </button>\n",
              "\n",
              "<style>\n",
              "  .colab-df-quickchart {\n",
              "      --bg-color: #E8F0FE;\n",
              "      --fill-color: #1967D2;\n",
              "      --hover-bg-color: #E2EBFA;\n",
              "      --hover-fill-color: #174EA6;\n",
              "      --disabled-fill-color: #AAA;\n",
              "      --disabled-bg-color: #DDD;\n",
              "  }\n",
              "\n",
              "  [theme=dark] .colab-df-quickchart {\n",
              "      --bg-color: #3B4455;\n",
              "      --fill-color: #D2E3FC;\n",
              "      --hover-bg-color: #434B5C;\n",
              "      --hover-fill-color: #FFFFFF;\n",
              "      --disabled-bg-color: #3B4455;\n",
              "      --disabled-fill-color: #666;\n",
              "  }\n",
              "\n",
              "  .colab-df-quickchart {\n",
              "    background-color: var(--bg-color);\n",
              "    border: none;\n",
              "    border-radius: 50%;\n",
              "    cursor: pointer;\n",
              "    display: none;\n",
              "    fill: var(--fill-color);\n",
              "    height: 32px;\n",
              "    padding: 0;\n",
              "    width: 32px;\n",
              "  }\n",
              "\n",
              "  .colab-df-quickchart:hover {\n",
              "    background-color: var(--hover-bg-color);\n",
              "    box-shadow: 0 1px 2px rgba(60, 64, 67, 0.3), 0 1px 3px 1px rgba(60, 64, 67, 0.15);\n",
              "    fill: var(--button-hover-fill-color);\n",
              "  }\n",
              "\n",
              "  .colab-df-quickchart-complete:disabled,\n",
              "  .colab-df-quickchart-complete:disabled:hover {\n",
              "    background-color: var(--disabled-bg-color);\n",
              "    fill: var(--disabled-fill-color);\n",
              "    box-shadow: none;\n",
              "  }\n",
              "\n",
              "  .colab-df-spinner {\n",
              "    border: 2px solid var(--fill-color);\n",
              "    border-color: transparent;\n",
              "    border-bottom-color: var(--fill-color);\n",
              "    animation:\n",
              "      spin 1s steps(1) infinite;\n",
              "  }\n",
              "\n",
              "  @keyframes spin {\n",
              "    0% {\n",
              "      border-color: transparent;\n",
              "      border-bottom-color: var(--fill-color);\n",
              "      border-left-color: var(--fill-color);\n",
              "    }\n",
              "    20% {\n",
              "      border-color: transparent;\n",
              "      border-left-color: var(--fill-color);\n",
              "      border-top-color: var(--fill-color);\n",
              "    }\n",
              "    30% {\n",
              "      border-color: transparent;\n",
              "      border-left-color: var(--fill-color);\n",
              "      border-top-color: var(--fill-color);\n",
              "      border-right-color: var(--fill-color);\n",
              "    }\n",
              "    40% {\n",
              "      border-color: transparent;\n",
              "      border-right-color: var(--fill-color);\n",
              "      border-top-color: var(--fill-color);\n",
              "    }\n",
              "    60% {\n",
              "      border-color: transparent;\n",
              "      border-right-color: var(--fill-color);\n",
              "    }\n",
              "    80% {\n",
              "      border-color: transparent;\n",
              "      border-right-color: var(--fill-color);\n",
              "      border-bottom-color: var(--fill-color);\n",
              "    }\n",
              "    90% {\n",
              "      border-color: transparent;\n",
              "      border-bottom-color: var(--fill-color);\n",
              "    }\n",
              "  }\n",
              "</style>\n",
              "\n",
              "  <script>\n",
              "    async function quickchart(key) {\n",
              "      const quickchartButtonEl =\n",
              "        document.querySelector('#' + key + ' button');\n",
              "      quickchartButtonEl.disabled = true;  // To prevent multiple clicks.\n",
              "      quickchartButtonEl.classList.add('colab-df-spinner');\n",
              "      try {\n",
              "        const charts = await google.colab.kernel.invokeFunction(\n",
              "            'suggestCharts', [key], {});\n",
              "      } catch (error) {\n",
              "        console.error('Error during call to suggestCharts:', error);\n",
              "      }\n",
              "      quickchartButtonEl.classList.remove('colab-df-spinner');\n",
              "      quickchartButtonEl.classList.add('colab-df-quickchart-complete');\n",
              "    }\n",
              "    (() => {\n",
              "      let quickchartButtonEl =\n",
              "        document.querySelector('#df-527387c3-53de-4749-a861-79bdcb3fa8a5 button');\n",
              "      quickchartButtonEl.style.display =\n",
              "        google.colab.kernel.accessAllowed ? 'block' : 'none';\n",
              "    })();\n",
              "  </script>\n",
              "</div>\n",
              "\n",
              "    </div>\n",
              "  </div>\n"
            ]
          },
          "metadata": {},
          "execution_count": 295
        }
      ],
      "source": [
        "symbol = '^NSEBANK'\n",
        "end = '2023-12-29'\n",
        "start = '2023-12-01'\n",
        "\n",
        "\n",
        "# Read data\n",
        "df = yf.download(symbol,start,end)\n",
        "\n",
        "df.head()"
      ]
    },
    {
      "cell_type": "markdown",
      "metadata": {
        "id": "8z9nZqOME2c0"
      },
      "source": [
        "### Calculation of annual volatility and time remainig for expiry used in calculation of delta"
      ]
    },
    {
      "cell_type": "code",
      "execution_count": 296,
      "metadata": {
        "id": "MD-tOY88E2c0",
        "colab": {
          "base_uri": "https://localhost:8080/",
          "height": 255
        },
        "outputId": "76400643-2a83-4358-bba9-269c5a347542"
      },
      "outputs": [
        {
          "output_type": "stream",
          "name": "stdout",
          "text": [
            "\r[*********************100%%**********************]  1 of 1 completed\n"
          ]
        },
        {
          "output_type": "execute_result",
          "data": {
            "text/plain": [
              "                    Open          High           Low         Close  \\\n",
              "Date                                                                 \n",
              "2023-11-23  43452.750000  43649.648438  43451.351562  43577.500000   \n",
              "2023-11-24  43607.351562  43806.500000  43566.148438  43769.101562   \n",
              "2023-11-28  43851.550781  43960.300781  43739.800781  43880.949219   \n",
              "2023-11-29  44081.750000  44630.351562  44003.449219  44566.449219   \n",
              "2023-11-30  44711.199219  44764.800781  44254.601562  44481.750000   \n",
              "\n",
              "               Adj Close  Volume  \n",
              "Date                              \n",
              "2023-11-23  43577.500000   72300  \n",
              "2023-11-24  43769.101562   96800  \n",
              "2023-11-28  43880.949219  151200  \n",
              "2023-11-29  44566.449219  152300  \n",
              "2023-11-30  44481.750000  343200  "
            ],
            "text/html": [
              "\n",
              "  <div id=\"df-8d2a8f8f-c5d8-41ef-9ee6-0408fe31d4c4\" class=\"colab-df-container\">\n",
              "    <div>\n",
              "<style scoped>\n",
              "    .dataframe tbody tr th:only-of-type {\n",
              "        vertical-align: middle;\n",
              "    }\n",
              "\n",
              "    .dataframe tbody tr th {\n",
              "        vertical-align: top;\n",
              "    }\n",
              "\n",
              "    .dataframe thead th {\n",
              "        text-align: right;\n",
              "    }\n",
              "</style>\n",
              "<table border=\"1\" class=\"dataframe\">\n",
              "  <thead>\n",
              "    <tr style=\"text-align: right;\">\n",
              "      <th></th>\n",
              "      <th>Open</th>\n",
              "      <th>High</th>\n",
              "      <th>Low</th>\n",
              "      <th>Close</th>\n",
              "      <th>Adj Close</th>\n",
              "      <th>Volume</th>\n",
              "    </tr>\n",
              "    <tr>\n",
              "      <th>Date</th>\n",
              "      <th></th>\n",
              "      <th></th>\n",
              "      <th></th>\n",
              "      <th></th>\n",
              "      <th></th>\n",
              "      <th></th>\n",
              "    </tr>\n",
              "  </thead>\n",
              "  <tbody>\n",
              "    <tr>\n",
              "      <th>2023-11-23</th>\n",
              "      <td>43452.750000</td>\n",
              "      <td>43649.648438</td>\n",
              "      <td>43451.351562</td>\n",
              "      <td>43577.500000</td>\n",
              "      <td>43577.500000</td>\n",
              "      <td>72300</td>\n",
              "    </tr>\n",
              "    <tr>\n",
              "      <th>2023-11-24</th>\n",
              "      <td>43607.351562</td>\n",
              "      <td>43806.500000</td>\n",
              "      <td>43566.148438</td>\n",
              "      <td>43769.101562</td>\n",
              "      <td>43769.101562</td>\n",
              "      <td>96800</td>\n",
              "    </tr>\n",
              "    <tr>\n",
              "      <th>2023-11-28</th>\n",
              "      <td>43851.550781</td>\n",
              "      <td>43960.300781</td>\n",
              "      <td>43739.800781</td>\n",
              "      <td>43880.949219</td>\n",
              "      <td>43880.949219</td>\n",
              "      <td>151200</td>\n",
              "    </tr>\n",
              "    <tr>\n",
              "      <th>2023-11-29</th>\n",
              "      <td>44081.750000</td>\n",
              "      <td>44630.351562</td>\n",
              "      <td>44003.449219</td>\n",
              "      <td>44566.449219</td>\n",
              "      <td>44566.449219</td>\n",
              "      <td>152300</td>\n",
              "    </tr>\n",
              "    <tr>\n",
              "      <th>2023-11-30</th>\n",
              "      <td>44711.199219</td>\n",
              "      <td>44764.800781</td>\n",
              "      <td>44254.601562</td>\n",
              "      <td>44481.750000</td>\n",
              "      <td>44481.750000</td>\n",
              "      <td>343200</td>\n",
              "    </tr>\n",
              "  </tbody>\n",
              "</table>\n",
              "</div>\n",
              "    <div class=\"colab-df-buttons\">\n",
              "\n",
              "  <div class=\"colab-df-container\">\n",
              "    <button class=\"colab-df-convert\" onclick=\"convertToInteractive('df-8d2a8f8f-c5d8-41ef-9ee6-0408fe31d4c4')\"\n",
              "            title=\"Convert this dataframe to an interactive table.\"\n",
              "            style=\"display:none;\">\n",
              "\n",
              "  <svg xmlns=\"http://www.w3.org/2000/svg\" height=\"24px\" viewBox=\"0 -960 960 960\">\n",
              "    <path d=\"M120-120v-720h720v720H120Zm60-500h600v-160H180v160Zm220 220h160v-160H400v160Zm0 220h160v-160H400v160ZM180-400h160v-160H180v160Zm440 0h160v-160H620v160ZM180-180h160v-160H180v160Zm440 0h160v-160H620v160Z\"/>\n",
              "  </svg>\n",
              "    </button>\n",
              "\n",
              "  <style>\n",
              "    .colab-df-container {\n",
              "      display:flex;\n",
              "      gap: 12px;\n",
              "    }\n",
              "\n",
              "    .colab-df-convert {\n",
              "      background-color: #E8F0FE;\n",
              "      border: none;\n",
              "      border-radius: 50%;\n",
              "      cursor: pointer;\n",
              "      display: none;\n",
              "      fill: #1967D2;\n",
              "      height: 32px;\n",
              "      padding: 0 0 0 0;\n",
              "      width: 32px;\n",
              "    }\n",
              "\n",
              "    .colab-df-convert:hover {\n",
              "      background-color: #E2EBFA;\n",
              "      box-shadow: 0px 1px 2px rgba(60, 64, 67, 0.3), 0px 1px 3px 1px rgba(60, 64, 67, 0.15);\n",
              "      fill: #174EA6;\n",
              "    }\n",
              "\n",
              "    .colab-df-buttons div {\n",
              "      margin-bottom: 4px;\n",
              "    }\n",
              "\n",
              "    [theme=dark] .colab-df-convert {\n",
              "      background-color: #3B4455;\n",
              "      fill: #D2E3FC;\n",
              "    }\n",
              "\n",
              "    [theme=dark] .colab-df-convert:hover {\n",
              "      background-color: #434B5C;\n",
              "      box-shadow: 0px 1px 3px 1px rgba(0, 0, 0, 0.15);\n",
              "      filter: drop-shadow(0px 1px 2px rgba(0, 0, 0, 0.3));\n",
              "      fill: #FFFFFF;\n",
              "    }\n",
              "  </style>\n",
              "\n",
              "    <script>\n",
              "      const buttonEl =\n",
              "        document.querySelector('#df-8d2a8f8f-c5d8-41ef-9ee6-0408fe31d4c4 button.colab-df-convert');\n",
              "      buttonEl.style.display =\n",
              "        google.colab.kernel.accessAllowed ? 'block' : 'none';\n",
              "\n",
              "      async function convertToInteractive(key) {\n",
              "        const element = document.querySelector('#df-8d2a8f8f-c5d8-41ef-9ee6-0408fe31d4c4');\n",
              "        const dataTable =\n",
              "          await google.colab.kernel.invokeFunction('convertToInteractive',\n",
              "                                                    [key], {});\n",
              "        if (!dataTable) return;\n",
              "\n",
              "        const docLinkHtml = 'Like what you see? Visit the ' +\n",
              "          '<a target=\"_blank\" href=https://colab.research.google.com/notebooks/data_table.ipynb>data table notebook</a>'\n",
              "          + ' to learn more about interactive tables.';\n",
              "        element.innerHTML = '';\n",
              "        dataTable['output_type'] = 'display_data';\n",
              "        await google.colab.output.renderOutput(dataTable, element);\n",
              "        const docLink = document.createElement('div');\n",
              "        docLink.innerHTML = docLinkHtml;\n",
              "        element.appendChild(docLink);\n",
              "      }\n",
              "    </script>\n",
              "  </div>\n",
              "\n",
              "\n",
              "<div id=\"df-7e1805a5-edab-4086-b225-9bc79489a6fa\">\n",
              "  <button class=\"colab-df-quickchart\" onclick=\"quickchart('df-7e1805a5-edab-4086-b225-9bc79489a6fa')\"\n",
              "            title=\"Suggest charts\"\n",
              "            style=\"display:none;\">\n",
              "\n",
              "<svg xmlns=\"http://www.w3.org/2000/svg\" height=\"24px\"viewBox=\"0 0 24 24\"\n",
              "     width=\"24px\">\n",
              "    <g>\n",
              "        <path d=\"M19 3H5c-1.1 0-2 .9-2 2v14c0 1.1.9 2 2 2h14c1.1 0 2-.9 2-2V5c0-1.1-.9-2-2-2zM9 17H7v-7h2v7zm4 0h-2V7h2v10zm4 0h-2v-4h2v4z\"/>\n",
              "    </g>\n",
              "</svg>\n",
              "  </button>\n",
              "\n",
              "<style>\n",
              "  .colab-df-quickchart {\n",
              "      --bg-color: #E8F0FE;\n",
              "      --fill-color: #1967D2;\n",
              "      --hover-bg-color: #E2EBFA;\n",
              "      --hover-fill-color: #174EA6;\n",
              "      --disabled-fill-color: #AAA;\n",
              "      --disabled-bg-color: #DDD;\n",
              "  }\n",
              "\n",
              "  [theme=dark] .colab-df-quickchart {\n",
              "      --bg-color: #3B4455;\n",
              "      --fill-color: #D2E3FC;\n",
              "      --hover-bg-color: #434B5C;\n",
              "      --hover-fill-color: #FFFFFF;\n",
              "      --disabled-bg-color: #3B4455;\n",
              "      --disabled-fill-color: #666;\n",
              "  }\n",
              "\n",
              "  .colab-df-quickchart {\n",
              "    background-color: var(--bg-color);\n",
              "    border: none;\n",
              "    border-radius: 50%;\n",
              "    cursor: pointer;\n",
              "    display: none;\n",
              "    fill: var(--fill-color);\n",
              "    height: 32px;\n",
              "    padding: 0;\n",
              "    width: 32px;\n",
              "  }\n",
              "\n",
              "  .colab-df-quickchart:hover {\n",
              "    background-color: var(--hover-bg-color);\n",
              "    box-shadow: 0 1px 2px rgba(60, 64, 67, 0.3), 0 1px 3px 1px rgba(60, 64, 67, 0.15);\n",
              "    fill: var(--button-hover-fill-color);\n",
              "  }\n",
              "\n",
              "  .colab-df-quickchart-complete:disabled,\n",
              "  .colab-df-quickchart-complete:disabled:hover {\n",
              "    background-color: var(--disabled-bg-color);\n",
              "    fill: var(--disabled-fill-color);\n",
              "    box-shadow: none;\n",
              "  }\n",
              "\n",
              "  .colab-df-spinner {\n",
              "    border: 2px solid var(--fill-color);\n",
              "    border-color: transparent;\n",
              "    border-bottom-color: var(--fill-color);\n",
              "    animation:\n",
              "      spin 1s steps(1) infinite;\n",
              "  }\n",
              "\n",
              "  @keyframes spin {\n",
              "    0% {\n",
              "      border-color: transparent;\n",
              "      border-bottom-color: var(--fill-color);\n",
              "      border-left-color: var(--fill-color);\n",
              "    }\n",
              "    20% {\n",
              "      border-color: transparent;\n",
              "      border-left-color: var(--fill-color);\n",
              "      border-top-color: var(--fill-color);\n",
              "    }\n",
              "    30% {\n",
              "      border-color: transparent;\n",
              "      border-left-color: var(--fill-color);\n",
              "      border-top-color: var(--fill-color);\n",
              "      border-right-color: var(--fill-color);\n",
              "    }\n",
              "    40% {\n",
              "      border-color: transparent;\n",
              "      border-right-color: var(--fill-color);\n",
              "      border-top-color: var(--fill-color);\n",
              "    }\n",
              "    60% {\n",
              "      border-color: transparent;\n",
              "      border-right-color: var(--fill-color);\n",
              "    }\n",
              "    80% {\n",
              "      border-color: transparent;\n",
              "      border-right-color: var(--fill-color);\n",
              "      border-bottom-color: var(--fill-color);\n",
              "    }\n",
              "    90% {\n",
              "      border-color: transparent;\n",
              "      border-bottom-color: var(--fill-color);\n",
              "    }\n",
              "  }\n",
              "</style>\n",
              "\n",
              "  <script>\n",
              "    async function quickchart(key) {\n",
              "      const quickchartButtonEl =\n",
              "        document.querySelector('#' + key + ' button');\n",
              "      quickchartButtonEl.disabled = true;  // To prevent multiple clicks.\n",
              "      quickchartButtonEl.classList.add('colab-df-spinner');\n",
              "      try {\n",
              "        const charts = await google.colab.kernel.invokeFunction(\n",
              "            'suggestCharts', [key], {});\n",
              "      } catch (error) {\n",
              "        console.error('Error during call to suggestCharts:', error);\n",
              "      }\n",
              "      quickchartButtonEl.classList.remove('colab-df-spinner');\n",
              "      quickchartButtonEl.classList.add('colab-df-quickchart-complete');\n",
              "    }\n",
              "    (() => {\n",
              "      let quickchartButtonEl =\n",
              "        document.querySelector('#df-7e1805a5-edab-4086-b225-9bc79489a6fa button');\n",
              "      quickchartButtonEl.style.display =\n",
              "        google.colab.kernel.accessAllowed ? 'block' : 'none';\n",
              "    })();\n",
              "  </script>\n",
              "</div>\n",
              "\n",
              "    </div>\n",
              "  </div>\n"
            ]
          },
          "metadata": {},
          "execution_count": 296
        }
      ],
      "source": [
        "symbol = '^NSEBANK'\n",
        "end = '2023-12-01'\n",
        "start = '2022-12-01'\n",
        "\n",
        "\n",
        "# Read data\n",
        "#You need to read the from the files provided on NSE Bank for the time given above.\n",
        "df_year = yf.download(symbol,start,end)\n",
        "df_year.tail()"
      ]
    },
    {
      "cell_type": "code",
      "execution_count": 297,
      "metadata": {
        "id": "fHKIhafJE2c1"
      },
      "outputs": [],
      "source": [
        "ret = df_year['Close'].pct_change()[1:]"
      ]
    },
    {
      "cell_type": "code",
      "execution_count": 298,
      "metadata": {
        "id": "s4VRF2EWE2c1",
        "colab": {
          "base_uri": "https://localhost:8080/"
        },
        "outputId": "2540928a-5f00-4653-87cf-a04a1ad1894d"
      },
      "outputs": [
        {
          "output_type": "execute_result",
          "data": {
            "text/plain": [
              "Date\n",
              "2022-12-02   -0.003627\n",
              "2022-12-05    0.005317\n",
              "2022-12-06   -0.004486\n",
              "2022-12-07   -0.000924\n",
              "2022-12-08    0.011558\n",
              "Name: Close, dtype: float64"
            ]
          },
          "metadata": {},
          "execution_count": 298
        }
      ],
      "source": [
        "ret.head()"
      ]
    },
    {
      "cell_type": "code",
      "execution_count": 299,
      "metadata": {
        "id": "n6SDOj-CE2c2",
        "colab": {
          "base_uri": "https://localhost:8080/"
        },
        "outputId": "1fb8bcd2-04d6-4d90-c97c-7544e0829243"
      },
      "outputs": [
        {
          "output_type": "execute_result",
          "data": {
            "text/plain": [
              "0.00796767530603895"
            ]
          },
          "metadata": {},
          "execution_count": 299
        }
      ],
      "source": [
        "daily_vol = ret.std()\n",
        "daily_vol"
      ]
    },
    {
      "cell_type": "code",
      "execution_count": 300,
      "metadata": {
        "id": "-Ocb1XZdE2c2",
        "colab": {
          "base_uri": "https://localhost:8080/"
        },
        "outputId": "cc243e31-b4f7-4180-9f07-f2ef16da93d3"
      },
      "outputs": [
        {
          "output_type": "execute_result",
          "data": {
            "text/plain": [
              "0.1264829243225371"
            ]
          },
          "metadata": {},
          "execution_count": 300
        }
      ],
      "source": [
        "#calculate the Annual Volatility using the daily volatility given above.\n",
        "vol = daily_vol * (252**(0.5))\n",
        "vol"
      ]
    },
    {
      "cell_type": "code",
      "execution_count": 301,
      "metadata": {
        "id": "8kOf2izOE2c3"
      },
      "outputs": [],
      "source": [
        "expiry = datetime.strptime('2023-12-28', '%Y-%m-%d')   #Expiry date"
      ]
    },
    {
      "cell_type": "code",
      "execution_count": 302,
      "metadata": {
        "id": "-yoknf1QE2c3",
        "colab": {
          "base_uri": "https://localhost:8080/"
        },
        "outputId": "c3f527cb-bc95-4bce-c0f5-a3eebafeb03f"
      },
      "outputs": [
        {
          "output_type": "execute_result",
          "data": {
            "text/plain": [
              "TimedeltaIndex(['27 days', '24 days', '23 days', '22 days', '21 days',\n",
              "                '20 days', '17 days', '16 days', '15 days', '14 days',\n",
              "                '13 days', '10 days',  '9 days',  '8 days',  '7 days',\n",
              "                 '6 days',  '2 days',  '1 days',  '0 days'],\n",
              "               dtype='timedelta64[ns]', name='Date', freq=None)"
            ]
          },
          "metadata": {},
          "execution_count": 302
        }
      ],
      "source": [
        "time_left = expiry-df.index    #Time left in days\n",
        "time_left"
      ]
    },
    {
      "cell_type": "code",
      "execution_count": 303,
      "metadata": {
        "id": "FJFrnj9-E2c4",
        "colab": {
          "base_uri": "https://localhost:8080/"
        },
        "outputId": "6b35983d-c382-419c-eabb-42b8e4394d32"
      },
      "outputs": [
        {
          "output_type": "execute_result",
          "data": {
            "text/plain": [
              "Int64Index([27, 24, 23, 22, 21, 20, 17, 16, 15, 14, 13, 10, 9, 8, 7, 6, 2, 1,\n",
              "            0],\n",
              "           dtype='int64', name='Date')"
            ]
          },
          "metadata": {},
          "execution_count": 303
        }
      ],
      "source": [
        "#Convert Time left in days to int data type\n",
        "time = time_left.days\n",
        "time"
      ]
    },
    {
      "cell_type": "markdown",
      "metadata": {
        "id": "FgnMtj7_E2c4"
      },
      "source": [
        "### Initial buying and selling"
      ]
    },
    {
      "cell_type": "code",
      "execution_count": 304,
      "metadata": {
        "id": "nGqd2GvsE2c4"
      },
      "outputs": [],
      "source": [
        "no_of_lots_fut = 10           #number of future lots we bought at start of the month\n",
        "buy_avg_future = df_fut[\"OPEN PRICE \"][0]       #buying average of that lot\n",
        "lot_size = 25     #lot size of bank nifty\n",
        "delta = 1*no_of_lots_fut*lot_size    #taking delta of future is 1 as if banknifty changes by 1 the future would also change by 1\n",
        "delta_to_maintain = 0.8*no_of_lots_fut*lot_size #Maintain 0.8 delta per future contract"
      ]
    },
    {
      "cell_type": "code",
      "execution_count": 305,
      "metadata": {
        "id": "lqfa2YdPE2c5",
        "colab": {
          "base_uri": "https://localhost:8080/"
        },
        "outputId": "d22565a6-46b6-4eca-afa3-bd47caa717c4"
      },
      "outputs": [
        {
          "output_type": "execute_result",
          "data": {
            "text/plain": [
              "0.11594126895359269"
            ]
          },
          "metadata": {},
          "execution_count": 305
        }
      ],
      "source": [
        "flag = 'c'   #for call or put option\n",
        "S = df['Open'][0]    #price of the underlying\n",
        "K = 49000   #strike price\n",
        "t = time[0]/365   #time left to expiry in years\n",
        "sigma = vol   #volatility\n",
        "r = 0.06  #risk free rate\n",
        "delta_per_lot_call = derivatives.delta(flag, S, K, t, r, sigma) * lot_size  #Calculate delta per lot\n",
        "delta_per_lot_call"
      ]
    },
    {
      "cell_type": "code",
      "execution_count": 306,
      "metadata": {
        "id": "_GCdbh6iE2c5",
        "colab": {
          "base_uri": "https://localhost:8080/"
        },
        "outputId": "17973b67-2c52-4e0f-e77b-3a1fea0d5174"
      },
      "outputs": [
        {
          "output_type": "execute_result",
          "data": {
            "text/plain": [
              "200.0"
            ]
          },
          "metadata": {},
          "execution_count": 306
        }
      ],
      "source": [
        "delta_to_maintain"
      ]
    },
    {
      "cell_type": "code",
      "execution_count": 307,
      "metadata": {
        "id": "M8TuuoGCE2c6",
        "colab": {
          "base_uri": "https://localhost:8080/"
        },
        "outputId": "260697f6-615c-4cdb-e973-48aa601b68d0"
      },
      "outputs": [
        {
          "output_type": "execute_result",
          "data": {
            "text/plain": [
              "250"
            ]
          },
          "metadata": {},
          "execution_count": 307
        }
      ],
      "source": [
        "delta"
      ]
    },
    {
      "cell_type": "code",
      "execution_count": 308,
      "metadata": {
        "id": "guVV7FCWE2c6"
      },
      "outputs": [],
      "source": [
        "number_of_lots_call = math.ceil((delta-delta_to_maintain)/delta_per_lot_call) #Calculate Number of call lots we have to sell to keep delta of 200"
      ]
    },
    {
      "cell_type": "code",
      "execution_count": 309,
      "metadata": {
        "id": "j5ZAObpFE2c6",
        "colab": {
          "base_uri": "https://localhost:8080/"
        },
        "outputId": "38453f3d-34d1-40c5-fda8-807623724e55"
      },
      "outputs": [
        {
          "output_type": "execute_result",
          "data": {
            "text/plain": [
              "432"
            ]
          },
          "metadata": {},
          "execution_count": 309
        }
      ],
      "source": [
        "number_of_lots_call"
      ]
    },
    {
      "cell_type": "code",
      "execution_count": 310,
      "metadata": {
        "id": "92acckStE2c7",
        "colab": {
          "base_uri": "https://localhost:8080/"
        },
        "outputId": "63a4d3e3-749c-4431-99a1-121383a31f15"
      },
      "outputs": [
        {
          "output_type": "execute_result",
          "data": {
            "text/plain": [
              "34.0"
            ]
          },
          "metadata": {},
          "execution_count": 310
        }
      ],
      "source": [
        "sell_avg_call = df_call_49000['OPEN PRICE '][0]  #selling avg of call\n",
        "sell_avg_call"
      ]
    },
    {
      "cell_type": "code",
      "execution_count": 311,
      "metadata": {
        "id": "u5dry9CNE2c7"
      },
      "outputs": [],
      "source": [
        "# Before moving on to managing delta, answer a few questions:\n",
        "\n",
        "#Q1 : What do you think would happen to the delta of call option as banknifty goes up? (increase/decrease)\n",
        "#Ans : Decrease\n",
        "\n",
        "#Q2 : So to manage the delta what would be done to call options already sold? (Buy some call options / Sell more)\n",
        "#Hint : Remember selling call options would give negative delta\n",
        "#Ans : Sell more"
      ]
    },
    {
      "cell_type": "markdown",
      "metadata": {
        "id": "JX8Nlrq8E2c8"
      },
      "source": [
        "### Managing delta"
      ]
    },
    {
      "cell_type": "code",
      "execution_count": 312,
      "metadata": {
        "id": "vmkLZoGhE2c8",
        "colab": {
          "base_uri": "https://localhost:8080/"
        },
        "outputId": "0dddb93b-ce84-4241-fa6e-13d33793fd36"
      },
      "outputs": [
        {
          "output_type": "stream",
          "name": "stdout",
          "text": [
            "48506.6 48456.35 52.18571428571428 0.5\n",
            "48359.95 48456.35 355.875 13.0\n",
            "47825.45 48456.35 663.4411764705883 7.3\n",
            "47575.6 48456.35 517.5113636363636 21.35\n",
            "48105.0 48456.35 498.1717391304348 72.7\n",
            "47480.55 48456.35 744.2100000000002 36.85\n",
            "48009.8 48456.35 666.114705882353 80.4\n",
            "47947.35 48456.35 502.10625000000005 103.8\n",
            "48271.45 48456.35 467.02222222222224 186.35\n",
            "48029.6 48456.35 884.6125000000001 132.95\n",
            "47396.25 48456.35 1295.46875 62.9\n",
            "47308.45 48456.35 771.9607142857143 73.95\n",
            "47491.85 48456.35 727.5266666666668 105.45\n",
            "47499.8 48456.35 342.63500000000005 111.7\n",
            "47047.15 48456.35 575.4619047619047 85.3\n",
            "46926.2 48456.35 253.62578125 96.45\n",
            "47152.4 48456.35 143.74127747252749 133.15\n",
            "46659.55 48456.35 438.824827586207 70.35\n"
          ]
        }
      ],
      "source": [
        "number_of_lots_call = math.ceil((delta-delta_to_maintain)/delta_per_lot_call)  #number of call lots we have to sell to keep delta of 200\n",
        "sell_avg_call = df_call_49000['OPEN PRICE '][0]  #selling avg of call\n",
        "profit= []\n",
        "\n",
        "for i in range(len(df)-1):\n",
        "    delta_per_lot_call = derivatives.delta(flag, df['Close'][i], 49000, time[i]/365, r, sigma) * lot_size  #Calculate delta per lot at the next closing day\n",
        "    current_number_of_lots_call = math.ceil((delta-delta_to_maintain)/delta_per_lot_call) #number of lots required to sell\n",
        "    no_of_lots_added =  current_number_of_lots_call - number_of_lots_call #number of lots added/subtracted for selling\n",
        "    sell_avg_call = (sell_avg_call*number_of_lots_call + no_of_lots_added*df_call_49000['CLOSE PRICE '][i]) / current_number_of_lots_call #new selling avg of call\n",
        "    number_of_lots_call = current_number_of_lots_call #update number of lots of calls sold\n",
        "    profit.append((df_fut['CLOSE PRICE '][i] - buy_avg_future) * no_of_lots_fut * lot_size + (sell_avg_call - df_call_49000['CLOSE PRICE '][i]) * lot_size * number_of_lots_call)  #unrealised profit\n",
        "\n",
        "    print(df_fut['CLOSE PRICE '][i], buy_avg_future, sell_avg_call, df_call_49000['CLOSE PRICE '][i])"
      ]
    },
    {
      "cell_type": "code",
      "execution_count": 313,
      "metadata": {
        "id": "nX1HzguLE2c8",
        "colab": {
          "base_uri": "https://localhost:8080/"
        },
        "outputId": "2972c4c9-2e8f-481b-aec4-74b793a4bb0d"
      },
      "outputs": [
        {
          "output_type": "execute_result",
          "data": {
            "text/plain": [
              "145"
            ]
          },
          "metadata": {},
          "execution_count": 313
        }
      ],
      "source": [
        "#As you can see that the number of lots of call sold is way too many as the delta of out of money call option approches 0 in the end\n",
        "#Thus this strategy would practically be possible by changing the strike price of the call option as it goes deep out of money\n",
        "#But that would require much higher level programming thats why we have given this simple assignment jst theoretically make\n",
        "#you realise the power of hedging\n",
        "number_of_lots_call"
      ]
    },
    {
      "cell_type": "code",
      "execution_count": 314,
      "metadata": {
        "id": "PYs591BGE2c9",
        "colab": {
          "base_uri": "https://localhost:8080/"
        },
        "outputId": "84d24acb-2b69-42e4-fc5d-9e297aa6ec73"
      },
      "outputs": [
        {
          "output_type": "execute_result",
          "data": {
            "text/plain": [
              "438.824827586207"
            ]
          },
          "metadata": {},
          "execution_count": 314
        }
      ],
      "source": [
        "sell_avg_call"
      ]
    },
    {
      "cell_type": "code",
      "execution_count": 315,
      "metadata": {
        "id": "5FjY0bjwE2c9",
        "colab": {
          "base_uri": "https://localhost:8080/"
        },
        "outputId": "0ffff5fd-5143-4dcd-c582-299ebcda4c7e"
      },
      "outputs": [
        {
          "output_type": "execute_result",
          "data": {
            "text/plain": [
              "0.34676564141066346"
            ]
          },
          "metadata": {},
          "execution_count": 315
        }
      ],
      "source": [
        "delta_per_lot_call"
      ]
    },
    {
      "cell_type": "code",
      "execution_count": 316,
      "metadata": {
        "id": "M99IUsY0E2c-",
        "colab": {
          "base_uri": "https://localhost:8080/"
        },
        "outputId": "5bc385b9-3ef2-4a0e-85d1-bf843404d340"
      },
      "outputs": [
        {
          "output_type": "execute_result",
          "data": {
            "text/plain": [
              "[374362.5,\n",
              " 250199.99999999965,\n",
              " 121134.99999999971,\n",
              " 52701.25,\n",
              " 156808.75000000035,\n",
              " 21310.000000001164,\n",
              " 137291.2500000011,\n",
              " 111733.75,\n",
              " 143228.74999999965,\n",
              " 118811.25000000006,\n",
              " -18511.24999999968,\n",
              " -42671.25000000038,\n",
              " -7846.249999999971,\n",
              " -8202.499999998836,\n",
              " -94964.9999999993,\n",
              " -131056.25000000035,\n",
              " -133226.24999999916,\n",
              " 886521.2500000014]"
            ]
          },
          "metadata": {},
          "execution_count": 316
        }
      ],
      "source": [
        "profit"
      ]
    },
    {
      "cell_type": "code",
      "execution_count": 317,
      "metadata": {
        "id": "HsLZgkn9E2c-",
        "colab": {
          "base_uri": "https://localhost:8080/",
          "height": 450
        },
        "outputId": "6b468e90-90d0-47ee-bb26-96ecb1979117"
      },
      "outputs": [
        {
          "output_type": "execute_result",
          "data": {
            "text/plain": [
              "<matplotlib.legend.Legend at 0x7a8f7086de40>"
            ]
          },
          "metadata": {},
          "execution_count": 317
        },
        {
          "output_type": "display_data",
          "data": {
            "text/plain": [
              "<Figure size 640x480 with 1 Axes>"
            ],
            "image/png": "[encoded data removed]"
          },
          "metadata": {}
        }
      ],
      "source": [
        "plt.plot(profit[:14], label = 'strategy_profit')\n",
        "plt.plot((df_fut['CLOSE PRICE ']-df_fut['OPEN PRICE '][0])[:14]*250, label = 'futures_profit')\n",
        "plt.legend()"
      ]
    },
    {
      "cell_type": "markdown",
      "metadata": {
        "id": "AID1g2RfE2c-"
      },
      "source": [
        "As you can see from the above graph of first first 14 days of the strategy that though the futures did fall very down but<br/>\n",
        "We were able to hedge this with selling of call option and our strategy did give better returns overall<br/>\n",
        "<br/>\n",
        "We didnt plot the whole graph as in the end many lots of call options were sold which is practically not possible<br/>"
      ]
    }
  ],
  "metadata": {
    "kernelspec": {
      "display_name": "Python 3",
      "name": "python3"
    },
    "language_info": {
      "codemirror_mode": {
        "name": "ipython",
        "version": 3
      },
      "file_extension": ".py",
      "mimetype": "text/x-python",
      "name": "python",
      "nbconvert_exporter": "python",
      "pygments_lexer": "ipython3",
      "version": "3.7.3"
    },
    "colab": {
      "provenance": []
    }
  },
  "nbformat": 4,
  "nbformat_minor": 0
}